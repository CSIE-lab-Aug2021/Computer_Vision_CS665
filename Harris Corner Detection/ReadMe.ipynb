{
 "cells": [
  {
   "cell_type": "markdown",
   "metadata": {},
   "source": [
    "# Image Formation and Features\n",
    "### CS655000 Computer Vision Homework 1\n",
    "### Brief\n",
    "* Due: Wed, 10/16, 23:59\n",
    "* Use Python to complete the homework.\n",
    "* If you encounter any problem, let’s discuss on iLMS instead of email.\n",
    "\n",
    "## Part 1. Harris Corner Detection\n",
    "\n",
    "With the Harris corner detector described in slides (p.79), mark the detected corners on the image.\n",
    "<img style=\"float: left;\" src=\"1.PNG\" width=\"60%\">"
   ]
  },
  {
   "cell_type": "markdown",
   "metadata": {},
   "source": [
    "\n",
    "### A. Functions:\n",
    "* `gaussian_smooth()`: filter images with Gaussian blur.\n",
    "* `sobel_edge_detection()`: apply the Sobel filters to the blurred images and compute the magnitude and direction of gradient. (You should eliminate weak gradients by proper threshold.)\n",
    "* `structure_tensor()`: use the gradient magnitude above to compute the structure tensor (second-moment matrix).\n",
    "* `nms()`: perform non-maximal suppression on the results above along with appropriate threshold for corner detection.\n",
    "\n",
    "### B. Results:\n",
    "* a. Original image\n",
    "    * i. Gaussian smooth results: 𝜎=5 and kernel size=5 and 10 (**2 images**)\n",
    "    * ii. Sobel edge detection results\n",
    "     * (1) magnitude of gradient (Gaussian kernel size=5 and 10) (**2 images**)\n",
    "     * (2) direction of gradient (Gaussian kernel size=5 and 10) (**2 images**)\n",
    "        (You can choose arbitrary color map to display)\n",
    "    * iii. Structure tensor + NMS results (Gaussian kernel size=10)\n",
    "     * (1) window size = 3x3 (**1 image**)\n",
    "     * (2) window size = 30x30 (**1 image**)\n",
    "* b. Final results of rotating (by 30°) original images (**1 image**)\n",
    "* c. Final results of scaling (to 0.5x) original images (**1 image**)\n",
    "\n",
    "### C. Report:\n",
    "* a. Discuss the results of blurred images and detected edges between different kernel sizes of Gaussian filter.\n",
    "* b. Discuss the difference between 3x3 and 30x30 window sizes of structure tensor.\n",
    "* c. Discuss the effect of non-maximal suppression.\n",
    "* d. Discuss the results of rotated and scaled image. Is Harris detector rotation-invariant or scale-invariant? Explain the reason.\n",
    "\n",
    "### D. Notice:\n",
    "* a. You should **NOT** use any functions which can get the result directly in each steps. (`cv2.Sobel`, `cv2.Laplacian`, `cv2.cornerHarris`, `skimg.feature.local_binary_pattern`, etc.)\n",
    "* b. Your code should display and output image results mentioned above.\n",
    "* c. You should provide a README file about your execution instructions."
   ]
  }
 ],
 "metadata": {
  "kernelspec": {
   "display_name": "Python 3",
   "language": "python",
   "name": "python3"
  },
  "language_info": {
   "codemirror_mode": {
    "name": "ipython",
    "version": 3
   },
   "file_extension": ".py",
   "mimetype": "text/x-python",
   "name": "python",
   "nbconvert_exporter": "python",
   "pygments_lexer": "ipython3",
   "version": "3.6.4"
  }
 },
 "nbformat": 4,
 "nbformat_minor": 2
}
