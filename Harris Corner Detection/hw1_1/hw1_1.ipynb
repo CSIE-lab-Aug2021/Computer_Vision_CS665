{
 "cells": [
  {
   "cell_type": "code",
   "execution_count": null,
   "metadata": {},
   "outputs": [],
   "source": [
    "import os\n",
    "import cv2\n",
    "import numpy as np\n",
    "import matplotlib.pyplot as plt\n",
    "%matplotlib inline\n",
    "\n",
    "from Harris_Corner_Detection import gaussian_smooth, sobel_edge_detection, structure_tensor, NMS, plot_harris_points, rotate\n",
    "\n",
    "img = cv2.imread('original.jpg')\n",
    "img_copy = np.copy(img)\n",
    "img_copy = cv2.cvtColor(img_copy, cv2.COLOR_BGR2RGB)\n",
    "img_Gray = cv2.cvtColor(img, cv2.COLOR_BGR2GRAY)\n",
    "\n",
    "\n",
    "# A. Harris corner detection with original image\n",
    "# i. Gaussian smooth results: 𝜎=5 and kernel size=5 and 10 (2 images)\n",
    "from scipy.ndimage.filters import convolve\n",
    "img_filtered_K5 = convolve(img_Gray, gaussian_smooth(size=5,sigma=5))\n",
    "img_filtered_K10 = convolve(img_Gray, gaussian_smooth(size=10,sigma=5))\n",
    "\n",
    "if __name__ == '__main__':\n",
    "    img_path = os.path.join('./original.jpg')\n",
    "    save_img_path1 = os.path.join('./results/Gaussian smooth results', 'gaussian_smooth_of_size_5_and_sigma_5')\n",
    "    save_img_path1 = os.path.join('./results/Gaussian smooth results', 'gaussian_smooth_of_size_10_and_sigma_5')\n",
    "    cv2.imwrite(save_img_path1, img_filtered_K5)\n",
    "    cv2.imwrite(save_img_path2, img_filtered_K10)"
   ]
  }
 ],
 "metadata": {
  "kernelspec": {
   "display_name": "Python 3",
   "language": "python",
   "name": "python3"
  },
  "language_info": {
   "codemirror_mode": {
    "name": "ipython",
    "version": 3
   },
   "file_extension": ".py",
   "mimetype": "text/x-python",
   "name": "python",
   "nbconvert_exporter": "python",
   "pygments_lexer": "ipython3",
   "version": "3.6.4"
  }
 },
 "nbformat": 4,
 "nbformat_minor": 2
}
