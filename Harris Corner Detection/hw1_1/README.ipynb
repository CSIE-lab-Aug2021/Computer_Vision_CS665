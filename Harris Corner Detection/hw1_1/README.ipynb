{
 "cells": [
  {
   "cell_type": "markdown",
   "metadata": {},
   "source": [
    "# Homework 1_1 說明\n",
    "\n",
    "## 1. 本次作業用到的Library: `os`, `cv2`, `numpy`, `matplotlib`, `scipy`\n",
    "## 2. py 檔: `hw1_1.py` (執行檔), `Harris_Corner_Detection.py` (Function)\n",
    "## 3. 若要執行程式, 產生圖片, 請輸入: `python hw1_1.py`\n",
    "## 4. Function 包含:  `gaussian_smooth`, `sobel_edge_detection`, `structure_tensor`, `NMS`, `rotate`\n",
    "## 5. results 內容包含5個子Folder, 分別為:\n",
    "> ### (1) `Gaussian smooth results`: 2張圖片, 分別是 Gaussian smooth results: 𝜎=5 and kernel size=5 與 Gaussian smooth results: 𝜎=5 and kernel size=10 images)\n",
    "> ### (2) `Sobel edge detection results`: 4張圖片, 分別是 magnitude of gradient (Gaussian kernel size=5 and 10) (2 images) 與 direction of gradient (Gaussian kernel size=5 and 10) (2 images)\n",
    "> ### (3) `Structure tensor + NMS results`: 2張圖片, 分別是 window size = 3x3 與 window size = 30x30\n",
    "> ### (4) `Final results of rotating`: 1張圖片, 內容為 Final results of rotating (by 30°) original images \n",
    "> ### (5) `Final results of scaling`: 1張圖片, 內容為 Final results of scaling (to 0.5x) original images"
   ]
  }
 ],
 "metadata": {
  "kernelspec": {
   "display_name": "Python 3",
   "language": "python",
   "name": "python3"
  },
  "language_info": {
   "codemirror_mode": {
    "name": "ipython",
    "version": 3
   },
   "file_extension": ".py",
   "mimetype": "text/x-python",
   "name": "python",
   "nbconvert_exporter": "python",
   "pygments_lexer": "ipython3",
   "version": "3.6.4"
  }
 },
 "nbformat": 4,
 "nbformat_minor": 2
}
